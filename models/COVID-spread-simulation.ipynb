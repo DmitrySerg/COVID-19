{
 "cells": [
  {
   "cell_type": "markdown",
   "metadata": {},
   "source": [
    "# <center> COVID-19 Spread Simulation </center>\n",
    "\n",
    "## <center> https://github.com/DmitrySerg/COVID-19 </center>\n",
    "\n",
    "Let's play a little Plague Inc. \n",
    "![](../pictures/spread.png)\n",
    "\n",
    "**Author: Dmitry Sergeev**\n",
    "\n",
    "**Senior Data Scientist @ ŌURA Health, Head of Data Science Programme @ Otus**\n",
    "\n",
    "**Telegram: @dmitryserg**\n",
    "\n",
    "\n",
    "Data description: This project uses a collection of datasets, describing the current outbreak of coronavirus disease (COVID-19). The data includes: world airport locations, connections and estimated number of flights per month between them (taken from https://www.flightconnections.com/), estimated population on country and city level (http://worldpopulationreview.com/world-cities/), as well as the current outbreak monitoring data, provided by the Johns Hopkins University Center for Systems Science and Engineering (JHU CCSE) on the number of confirmed, recovered, and death cases (https://github.com/CSSEGISandData/COVID-19/tree/master/csse_covid_19_data)."
   ]
  },
  {
   "cell_type": "code",
   "execution_count": 2,
   "metadata": {},
   "outputs": [],
   "source": [
    "import pandas as pd\n",
    "import numpy as np\n",
    "import networkx as nx\n",
    "import pickle\n",
    "\n",
    "import matplotlib.pyplot as plt\n",
    "import seaborn as sns\n",
    "import plotly.graph_objects as go\n",
    "\n",
    "from tqdm import tqdm_notebook\n",
    "from multiprocessing import Pool\n",
    "from collections import ChainMap\n",
    "from joblib import Parallel, delayed\n",
    "from scipy.special import logit, expit\n",
    "\n",
    "import warnings\n",
    "warnings.filterwarnings(\"ignore\")\n",
    "\n",
    "from sir_model import SIR"
   ]
  },
  {
   "cell_type": "code",
   "execution_count": 3,
   "metadata": {},
   "outputs": [
    {
     "data": {
      "text/html": [
       "<div>\n",
       "<style scoped>\n",
       "    .dataframe tbody tr th:only-of-type {\n",
       "        vertical-align: middle;\n",
       "    }\n",
       "\n",
       "    .dataframe tbody tr th {\n",
       "        vertical-align: top;\n",
       "    }\n",
       "\n",
       "    .dataframe thead th {\n",
       "        text-align: right;\n",
       "    }\n",
       "</style>\n",
       "<table border=\"1\" class=\"dataframe\">\n",
       "  <thead>\n",
       "    <tr style=\"text-align: right;\">\n",
       "      <th></th>\n",
       "      <th>Name</th>\n",
       "      <th>City</th>\n",
       "      <th>Country</th>\n",
       "      <th>IATA</th>\n",
       "      <th>Lat</th>\n",
       "      <th>Long</th>\n",
       "      <th>city_population</th>\n",
       "      <th>country_population</th>\n",
       "      <th>country_density</th>\n",
       "      <th>source_airport</th>\n",
       "      <th>destination_flights</th>\n",
       "      <th>flights_coefficient</th>\n",
       "    </tr>\n",
       "  </thead>\n",
       "  <tbody>\n",
       "    <tr>\n",
       "      <th>0</th>\n",
       "      <td>Goroka Airport</td>\n",
       "      <td>Goroka</td>\n",
       "      <td>Papua New Guinea</td>\n",
       "      <td>GKA</td>\n",
       "      <td>-6.081690</td>\n",
       "      <td>145.391998</td>\n",
       "      <td>43741.0</td>\n",
       "      <td>8776109.0</td>\n",
       "      <td>18.9614</td>\n",
       "      <td>GKA</td>\n",
       "      <td>306.0</td>\n",
       "      <td>142.943199</td>\n",
       "    </tr>\n",
       "    <tr>\n",
       "      <th>1</th>\n",
       "      <td>Madang Airport</td>\n",
       "      <td>Madang</td>\n",
       "      <td>Papua New Guinea</td>\n",
       "      <td>MAG</td>\n",
       "      <td>-5.207080</td>\n",
       "      <td>145.789001</td>\n",
       "      <td>24444.0</td>\n",
       "      <td>8776109.0</td>\n",
       "      <td>18.9614</td>\n",
       "      <td>MAG</td>\n",
       "      <td>171.0</td>\n",
       "      <td>142.943199</td>\n",
       "    </tr>\n",
       "    <tr>\n",
       "      <th>2</th>\n",
       "      <td>Mount Hagen Kagamuga Airport</td>\n",
       "      <td>Mount Hagen</td>\n",
       "      <td>Papua New Guinea</td>\n",
       "      <td>HGU</td>\n",
       "      <td>-5.826790</td>\n",
       "      <td>144.296005</td>\n",
       "      <td>74903.0</td>\n",
       "      <td>8776109.0</td>\n",
       "      <td>18.9614</td>\n",
       "      <td>HGU</td>\n",
       "      <td>524.0</td>\n",
       "      <td>142.943199</td>\n",
       "    </tr>\n",
       "    <tr>\n",
       "      <th>3</th>\n",
       "      <td>Nadzab Airport</td>\n",
       "      <td>Nadzab</td>\n",
       "      <td>Papua New Guinea</td>\n",
       "      <td>LAE</td>\n",
       "      <td>-6.569803</td>\n",
       "      <td>146.725977</td>\n",
       "      <td>101061.0</td>\n",
       "      <td>8776109.0</td>\n",
       "      <td>18.9614</td>\n",
       "      <td>LAE</td>\n",
       "      <td>707.0</td>\n",
       "      <td>142.943199</td>\n",
       "    </tr>\n",
       "    <tr>\n",
       "      <th>4</th>\n",
       "      <td>Port Moresby Jacksons International Airport</td>\n",
       "      <td>Port Moresby</td>\n",
       "      <td>Papua New Guinea</td>\n",
       "      <td>POM</td>\n",
       "      <td>-9.443380</td>\n",
       "      <td>147.220001</td>\n",
       "      <td>382516.0</td>\n",
       "      <td>8776109.0</td>\n",
       "      <td>18.9614</td>\n",
       "      <td>POM</td>\n",
       "      <td>2676.0</td>\n",
       "      <td>142.943199</td>\n",
       "    </tr>\n",
       "  </tbody>\n",
       "</table>\n",
       "</div>"
      ],
      "text/plain": [
       "                                          Name          City  \\\n",
       "0                               Goroka Airport        Goroka   \n",
       "1                               Madang Airport        Madang   \n",
       "2                 Mount Hagen Kagamuga Airport   Mount Hagen   \n",
       "3                               Nadzab Airport        Nadzab   \n",
       "4  Port Moresby Jacksons International Airport  Port Moresby   \n",
       "\n",
       "            Country IATA       Lat        Long  city_population  \\\n",
       "0  Papua New Guinea  GKA -6.081690  145.391998          43741.0   \n",
       "1  Papua New Guinea  MAG -5.207080  145.789001          24444.0   \n",
       "2  Papua New Guinea  HGU -5.826790  144.296005          74903.0   \n",
       "3  Papua New Guinea  LAE -6.569803  146.725977         101061.0   \n",
       "4  Papua New Guinea  POM -9.443380  147.220001         382516.0   \n",
       "\n",
       "   country_population  country_density source_airport  destination_flights  \\\n",
       "0           8776109.0          18.9614            GKA                306.0   \n",
       "1           8776109.0          18.9614            MAG                171.0   \n",
       "2           8776109.0          18.9614            HGU                524.0   \n",
       "3           8776109.0          18.9614            LAE                707.0   \n",
       "4           8776109.0          18.9614            POM               2676.0   \n",
       "\n",
       "   flights_coefficient  \n",
       "0           142.943199  \n",
       "1           142.943199  \n",
       "2           142.943199  \n",
       "3           142.943199  \n",
       "4           142.943199  "
      ]
     },
     "execution_count": 3,
     "metadata": {},
     "output_type": "execute_result"
    }
   ],
   "source": [
    "airport_df = pd.read_csv(\"../data/airport_df_preprocessed.csv\", index_col=0)\n",
    "airport_df.head()"
   ]
  },
  {
   "cell_type": "code",
   "execution_count": 4,
   "metadata": {},
   "outputs": [
    {
     "data": {
      "text/html": [
       "<div>\n",
       "<style scoped>\n",
       "    .dataframe tbody tr th:only-of-type {\n",
       "        vertical-align: middle;\n",
       "    }\n",
       "\n",
       "    .dataframe tbody tr th {\n",
       "        vertical-align: top;\n",
       "    }\n",
       "\n",
       "    .dataframe thead th {\n",
       "        text-align: right;\n",
       "    }\n",
       "</style>\n",
       "<table border=\"1\" class=\"dataframe\">\n",
       "  <thead>\n",
       "    <tr style=\"text-align: right;\">\n",
       "      <th></th>\n",
       "      <th>airline</th>\n",
       "      <th>airline_id</th>\n",
       "      <th>source_airport</th>\n",
       "      <th>source_airport_id</th>\n",
       "      <th>dest_airport</th>\n",
       "      <th>dest_airport_id</th>\n",
       "      <th>destination_flights</th>\n",
       "      <th>lat_source</th>\n",
       "      <th>long_source</th>\n",
       "      <th>lat_dest</th>\n",
       "      <th>long_dest</th>\n",
       "    </tr>\n",
       "  </thead>\n",
       "  <tbody>\n",
       "    <tr>\n",
       "      <th>0</th>\n",
       "      <td>2B</td>\n",
       "      <td>410</td>\n",
       "      <td>AER</td>\n",
       "      <td>2965</td>\n",
       "      <td>KZN</td>\n",
       "      <td>2990</td>\n",
       "      <td>0.533333</td>\n",
       "      <td>43.449902</td>\n",
       "      <td>39.956600</td>\n",
       "      <td>55.606201</td>\n",
       "      <td>49.278702</td>\n",
       "    </tr>\n",
       "    <tr>\n",
       "      <th>1</th>\n",
       "      <td>2B</td>\n",
       "      <td>410</td>\n",
       "      <td>ASF</td>\n",
       "      <td>2966</td>\n",
       "      <td>KZN</td>\n",
       "      <td>2990</td>\n",
       "      <td>0.400000</td>\n",
       "      <td>46.283298</td>\n",
       "      <td>48.006302</td>\n",
       "      <td>55.606201</td>\n",
       "      <td>49.278702</td>\n",
       "    </tr>\n",
       "    <tr>\n",
       "      <th>2</th>\n",
       "      <td>2B</td>\n",
       "      <td>410</td>\n",
       "      <td>CEK</td>\n",
       "      <td>2968</td>\n",
       "      <td>KZN</td>\n",
       "      <td>2990</td>\n",
       "      <td>0.033333</td>\n",
       "      <td>55.305801</td>\n",
       "      <td>61.503300</td>\n",
       "      <td>55.606201</td>\n",
       "      <td>49.278702</td>\n",
       "    </tr>\n",
       "    <tr>\n",
       "      <th>3</th>\n",
       "      <td>2B</td>\n",
       "      <td>410</td>\n",
       "      <td>DME</td>\n",
       "      <td>4029</td>\n",
       "      <td>KZN</td>\n",
       "      <td>2990</td>\n",
       "      <td>4.700000</td>\n",
       "      <td>55.408798</td>\n",
       "      <td>37.906300</td>\n",
       "      <td>55.606201</td>\n",
       "      <td>49.278702</td>\n",
       "    </tr>\n",
       "    <tr>\n",
       "      <th>4</th>\n",
       "      <td>S7</td>\n",
       "      <td>4329</td>\n",
       "      <td>DME</td>\n",
       "      <td>4029</td>\n",
       "      <td>KZN</td>\n",
       "      <td>2990</td>\n",
       "      <td>4.700000</td>\n",
       "      <td>55.408798</td>\n",
       "      <td>37.906300</td>\n",
       "      <td>55.606201</td>\n",
       "      <td>49.278702</td>\n",
       "    </tr>\n",
       "  </tbody>\n",
       "</table>\n",
       "</div>"
      ],
      "text/plain": [
       "  airline airline_id source_airport source_airport_id dest_airport  \\\n",
       "0      2B        410            AER              2965          KZN   \n",
       "1      2B        410            ASF              2966          KZN   \n",
       "2      2B        410            CEK              2968          KZN   \n",
       "3      2B        410            DME              4029          KZN   \n",
       "4      S7       4329            DME              4029          KZN   \n",
       "\n",
       "  dest_airport_id  destination_flights  lat_source  long_source   lat_dest  \\\n",
       "0            2990             0.533333   43.449902    39.956600  55.606201   \n",
       "1            2990             0.400000   46.283298    48.006302  55.606201   \n",
       "2            2990             0.033333   55.305801    61.503300  55.606201   \n",
       "3            2990             4.700000   55.408798    37.906300  55.606201   \n",
       "4            2990             4.700000   55.408798    37.906300  55.606201   \n",
       "\n",
       "   long_dest  \n",
       "0  49.278702  \n",
       "1  49.278702  \n",
       "2  49.278702  \n",
       "3  49.278702  \n",
       "4  49.278702  "
      ]
     },
     "execution_count": 4,
     "metadata": {},
     "output_type": "execute_result"
    }
   ],
   "source": [
    "connections = pd.read_csv(\"../data/connections_preprocessed.csv\", index_col=0)\n",
    "connections.head()"
   ]
  },
  {
   "cell_type": "markdown",
   "metadata": {},
   "source": [
    "# <center>  Network infection spread </center> \n",
    "\n",
    "To model the infection spread through the airline traffic network we need to calculate the probability that a given susceptible city would be infected by its neighbouring infected city on a given day.\n",
    "\n",
    "We consider a city infected if at least one infected plane landed in this city. Hence, first we need to calculate the probability that the plane coming from the infected city is infected itself. Next, we can calculate the probability that the city is infected. \n",
    "\n",
    "As a result, we recalculate the probabilities of infection spread based on the estimated number of the infected population in the infected cities. That approach proved to be surprisingly accurate and was able to \"predict\" major COVID-19 outbreaks, e.g. in Western Europe or the USA.  \n"
   ]
  },
  {
   "cell_type": "markdown",
   "metadata": {},
   "source": [
    "--- \n",
    "\n",
    "<img src=\"../pictures/network_spread_diagram.png\" width=600>\n",
    "\n",
    "---\n",
    "\n",
    "$$P(\\text{plane is infected}) = \\frac{I}{N}$$ \n",
    "\n",
    "\n",
    "$$P(\\text{new city is infected}) = 1 - P(\\text{all incoming places are healthy}) = $$\n",
    "\n",
    "$$= 1- P(\\text{all planes from city A are healthy}) \\cdot P(\\text{all planes from city B are healthy}) \\cdot ... \\cdot =$$\n",
    "\n",
    "$$= 1 - [(1 - \\frac{I_A}{N_A}) ^ {f_A} \\cdot (1 - \\frac{I_B}{N_B}) ^ {f_B} \\cdot...]$$\n",
    "\n",
    "\n",
    "\n",
    "$I$ - number of infected in the city, $N$ - total population of the city, $f$ - flights from city per day\n",
    "\n"
   ]
  },
  {
   "cell_type": "code",
   "execution_count": 5,
   "metadata": {},
   "outputs": [],
   "source": [
    "def prob_infected_plane(I, N):\n",
    "    \"\"\"\n",
    "    I - number of infected in the city\n",
    "    N - total population in the city\n",
    "    \"\"\"\n",
    "    return I/N\n",
    "\n",
    "\n",
    "def prob_city_infected(infectious_sources, populations_sources, daily_flights_sources):\n",
    "    \"\"\"\n",
    "    Calculates the probability that the city will be infected by any of the incoming planes\n",
    "    \n",
    "    \n",
    "    Formula used:\n",
    "    P(new city infected) = 1 - P(all incoming places are healthy) = \\\n",
    "        = P(all planes from city A are healthy) * P(all planes from city B are healthy) * ...\n",
    "        = 1 - [(1 - I_A/N_A) ^ f_A * (1 - I_B/N_B) ^ f_B * ...]\n",
    "        \n",
    "    \"\"\"\n",
    "    prob_all_planes_healthy = 1\n",
    "    for I, N, f in zip(infectious_sources, populations_sources, daily_flights_sources):    \n",
    "        prob_all_planes_healthy *= (1-prob_infected_plane(I, N)) ** f\n",
    "        \n",
    "    return 1 - prob_all_planes_healthy"
   ]
  },
  {
   "cell_type": "code",
   "execution_count": 6,
   "metadata": {},
   "outputs": [
    {
     "data": {
      "text/plain": [
       "0.1393566173169637"
      ]
     },
     "execution_count": 6,
     "metadata": {},
     "output_type": "execute_result"
    }
   ],
   "source": [
    "prob_city_infected([10, 20], [10000, 20000], [100, 50])"
   ]
  },
  {
   "cell_type": "markdown",
   "metadata": {},
   "source": [
    "# <center> City infection spread (SIR) </center>\n",
    "\n",
    "To model the spread of infection within a particular city we use a homogeneous [Susceptible-Infectious-Recovered/Removed (SIR)](https://www.maa.org/press/periodicals/loci/joma/the-sir-model-for-spread-of-disease-the-differential-equation-model) model with several assumptions. Although quite simplistic, the model proves to be reasonable for approximating the COVID-19 infection spread. There are several reasons for this efficiency:\n",
    "\n",
    "1. A person becomes infectious already during the incubation period (source: [Johns Hopkins University](https://www.jhsph.edu/news/news-releases/2020/new-study-on-COVID-19-estimates-5-days-for-incubation-period.html?utm_source=feedburner&utm_medium=feed&utm_campaign=Feed%3A+JHSPHNews+%28Public+Health+News+Headlines+from+Johns+Hopkins%29)). That means there is a direct transition from Susceptible to Infectious bypassing the Exposed step as in SEIR model\n",
    "2. There is no vaccine at the moment, so it's impossible to prevent the decease from spreading using traditional herd immunization strategies. For SIR model that means that all city population is susceptible unless strict quarantine is enforced (more on that later)\n",
    "3. The long incubation period (14 days median, Ibid) and unsymptomatic nature for the majority of infected allow the decease to spread undetected up until first symptomatic infections are detected and tested. That once again aligns with the initial dynamics of the SIR model.\n",
    "\n",
    "\n",
    "<img src=\"../pictures/SIR_schema.png\" width=400>"
   ]
  },
  {
   "cell_type": "markdown",
   "metadata": {},
   "source": [
    "The major idea that we've implemented to address the changes in the infection rate due to social distancing and quarantine measures is dynamically modelling the reproduction nunmber **R**. The idea is straightforward - adjust **R** in response to the preventive measures. As a baseline, we took the Wuhan example of preventive measures and their approximate timelines.\n",
    "\n",
    "- During the first days, the infection spreads largely undetected, hence, **R** value is close to its upper bound. \n",
    "- On average, after the **median incubation period of 14 days**, first social distancing measures are taken into action which drives **R** down to its average values.\n",
    "- Finally, after approximately 1-month period strict quarantine measures are enforced, including travel bans, area lockdowns, etc. That results in **R** value dropping down to its minimum values"
   ]
  },
  {
   "cell_type": "code",
   "execution_count": 11,
   "metadata": {},
   "outputs": [],
   "source": [
    "def calculate_reproduction_number(\n",
    "    max_R, min_R, \n",
    "    simulation_days, \n",
    "    intervention_start=30, \n",
    "    intervention_period=14\n",
    "):\n",
    "    \"\"\"\n",
    "    :max_R: maximal possible R value during the simulation\n",
    "    :min_R: minimal possible R value during the simulation\n",
    "    :simulation_days: number of days in the simulation run\n",
    "    :intervention_start: number of days after which R starts going down\n",
    "    :intervention_period: number of days it takes from the intervention start\n",
    "        to drive R value to its minimal values\n",
    "    \"\"\"\n",
    "    \n",
    "    reproduction_n = np.repeat(max_R, intervention_start)\n",
    "    reproduction_intervention = expit(np.linspace(-5, 3, num=intervention_period))[::-1]\n",
    "    reproduction_intervention = reproduction_intervention * (max_R - min_R) + min_R\n",
    "    reproduction_n = np.concatenate(\n",
    "        (\n",
    "            reproduction_n, \n",
    "            reproduction_intervention,\n",
    "            np.repeat(min_R, simulation_days)\n",
    "        )\n",
    "    )\n",
    "    return reproduction_n"
   ]
  },
  {
   "cell_type": "markdown",
   "metadata": {},
   "source": [
    "# Example of dynamical R modelling"
   ]
  },
  {
   "cell_type": "code",
   "execution_count": 38,
   "metadata": {},
   "outputs": [
    {
     "data": {
      "image/png": "[encoded data removed]",
      "text/plain": [
       "<Figure size 720x432 with 1 Axes>"
      ]
     },
     "metadata": {
      "needs_background": "light"
     },
     "output_type": "display_data"
    }
   ],
   "source": [
    "max_R = 5.\n",
    "min_R = 1.\n",
    "simulation_days=100\n",
    "intervention_start=30\n",
    "intervention_period=30\n",
    "\n",
    "example_R = calculate_reproduction_number(\n",
    "    max_R, min_R, \n",
    "    simulation_days=simulation_days, \n",
    "    intervention_start=intervention_start,\n",
    "    intervention_period=intervention_period\n",
    ")\n",
    "\n",
    "plt.figure(figsize=(10, 6))\n",
    "plt.plot(example_R[:80], linewidth=2, color='red')\n",
    "plt.title(\"Dynamic Reprodiction number modelling\")\n",
    "plt.text(0, max_R-0.2, f\"R0: {max_R}\")\n",
    "plt.text(70, min_R+0.2, f\"R60: {min_R}\")\n",
    "plt.vlines(intervention_start, min_R, max_R, \n",
    "           label='Intervention start', linestyles='dashed')\n",
    "plt.vlines(\n",
    "    intervention_start+intervention_period, min_R, max_R, \n",
    "    label='Intervention period', linestyles='dashed')\n",
    "plt.ylabel(\"R\")\n",
    "plt.xlabel(\"Days from start of infection\")\n",
    "plt.legend()\n",
    "\n",
    "sns.despine()\n",
    "plt.show()"
   ]
  },
  {
   "cell_type": "markdown",
   "metadata": {},
   "source": [
    "# Comparing to Johns Hopkins Data"
   ]
  },
  {
   "cell_type": "code",
   "execution_count": 39,
   "metadata": {},
   "outputs": [],
   "source": [
    "main_link = 'https://raw.githubusercontent.com/CSSEGISandData/COVID-19/master/csse_covid_19_data/csse_covid_19_time_series/'\n",
    "CONFIRMED = pd.read_csv(main_link+'time_series_covid19_confirmed_global.csv' )\n",
    "DEATHS = pd.read_csv(main_link+'time_series_covid19_deaths_global.csv')\n",
    "RECOVERED = pd.read_csv(main_link+'time_series_covid19_recovered_global.csv')"
   ]
  },
  {
   "cell_type": "code",
   "execution_count": 40,
   "metadata": {},
   "outputs": [],
   "source": [
    "country = 'China'\n",
    "\n",
    "confirmed_country = CONFIRMED[CONFIRMED['Country/Region']==country].sum()[4:].values\n",
    "first_case = np.argwhere(confirmed_country)[0][0]\n",
    "confirmed_country = confirmed_country[first_case:]\n",
    "\n",
    "deaths_country = DEATHS[DEATHS['Country/Region']==country].sum()[4:].values[first_case:]\n",
    "recovered_country = RECOVERED[RECOVERED['Country/Region']==country].sum()[4:].values[first_case:]"
   ]
  },
  {
   "cell_type": "code",
   "execution_count": 42,
   "metadata": {
    "code_folding": []
   },
   "outputs": [
    {
     "data": {
      "image/png": "[encoded data removed]",
      "text/plain": [
       "<Figure size 1008x504 with 1 Axes>"
      ]
     },
     "metadata": {
      "needs_background": "light"
     },
     "output_type": "display_data"
    }
   ],
   "source": [
    "plt.figure(figsize=(14, 7))\n",
    "plt.title(country, fontsize=14)\n",
    "plt.plot(\n",
    "    confirmed_country,\n",
    "    linewidth=2,\n",
    "    label='Confirmed',\n",
    "    color='red'\n",
    ")\n",
    "plt.plot(\n",
    "    deaths_country, \n",
    "    linewidth=2,\n",
    "    label='Deaths',\n",
    "    color='black'\n",
    ")\n",
    "plt.plot(\n",
    "    recovered_country,\n",
    "    linewidth=2,\n",
    "    label='Recovered',\n",
    "    color='green'\n",
    ")\n",
    "plt.legend()\n",
    "plt.xlabel('Days from start of infection')\n",
    "plt.ylabel(\"Reported number of cases\")\n",
    "plt.grid(alpha=0.4)\n",
    "sns.despine()\n",
    "plt.show()"
   ]
  },
  {
   "cell_type": "markdown",
   "metadata": {},
   "source": [
    "# Important assumption \n",
    "\n",
    "Only 10% of cases, on average, were reported in the China statistics (estimate from Johns Hopkins University)"
   ]
  },
  {
   "cell_type": "code",
   "execution_count": 80,
   "metadata": {},
   "outputs": [],
   "source": [
    "max_R0 = 4\n",
    "min_R0 = 1\n",
    "SIMULATION_DAYS = 150\n",
    "\n",
    "beta = calculate_reproduction_number(\n",
    "    max_R0, min_R0, SIMULATION_DAYS, intervention_start=30, intervention_period=14\n",
    ")\n",
    "\n",
    "# Dividing the initial number of cases by 0.1 to adjust for the unobserved cases\n",
    "sir_model = SIR(8364977, I0=444/0.1, beta=beta/14, gamma=0.0576*2, days=SIMULATION_DAYS)\n",
    "S, I, R = sir_model.run()"
   ]
  },
  {
   "cell_type": "code",
   "execution_count": 79,
   "metadata": {},
   "outputs": [
    {
     "data": {
      "image/png": "[encoded data removed]",
      "text/plain": [
       "<Figure size 720x432 with 1 Axes>"
      ]
     },
     "metadata": {
      "needs_background": "light"
     },
     "output_type": "display_data"
    }
   ],
   "source": [
    "plt.figure(figsize=(10, 6))\n",
    "plt.plot(I, c='red', label='Infected')\n",
    "plt.plot(S, c='blue', label='Susceptible')\n",
    "plt.plot(R, c='green', label='Removed')\n",
    "plt.legend()\n",
    "plt.title(\"Wuhan SIR modelling\")\n",
    "plt.ylabel(\"Reported cases\")\n",
    "plt.xlabel(\"Days from start of the infection\")\n",
    "sns.despine()\n",
    "plt.show()"
   ]
  },
  {
   "cell_type": "code",
   "execution_count": 51,
   "metadata": {},
   "outputs": [
    {
     "data": {
      "image/png": "[encoded data removed]",
      "text/plain": [
       "<Figure size 1080x576 with 4 Axes>"
      ]
     },
     "metadata": {
      "needs_background": "light"
     },
     "output_type": "display_data"
    }
   ],
   "source": [
    "fig, axs = plt.subplots(2, 2, figsize=(15, 8))\n",
    "axs[0, 0].plot(confirmed_country)\n",
    "axs[0, 0].set_title(\"Confirmed actual\")\n",
    "sns.despine()\n",
    "axs[0, 1].plot(I)\n",
    "axs[0, 1].set_title(\"Infected predicted\")\n",
    "axs[0, 1].set_xlim(0, len(confirmed_country))\n",
    "\n",
    "axs[1, 0].plot(deaths_country+recovered_country)\n",
    "axs[1, 0].set_title(\"Recovered + deaths actual\")\n",
    "axs[1, 0].set_xlabel(\"Days from start of infection\")\n",
    "axs[1, 1].plot(R)\n",
    "sns.despine()\n",
    "axs[1, 1].set_title(\"Recovered + deaths predicted\")\n",
    "axs[1, 1].set_xlim(0, len(confirmed_country))\n",
    "axs[1, 1].set_xlabel(\"Days from start of infection\")\n",
    "plt.show()"
   ]
  },
  {
   "cell_type": "markdown",
   "metadata": {},
   "source": [
    "# <center> COVID-19 Spread Simulation </center>\n",
    "\n",
    "<img src=\"../pictures/spread_schema.png\" width=700>"
   ]
  },
  {
   "cell_type": "code",
   "execution_count": 54,
   "metadata": {},
   "outputs": [],
   "source": [
    "# taking unique source-destination pairs\n",
    "connections = connections.groupby([\"source_airport\", 'dest_airport'], as_index=False).agg({\n",
    "    \"destination_flights\":np.nansum,\n",
    "    \"lat_source\":min,\n",
    "    \"long_source\":min,\n",
    "    \"lat_dest\":min,\n",
    "    \"long_dest\":min\n",
    "})"
   ]
  },
  {
   "cell_type": "markdown",
   "metadata": {},
   "source": [
    "## NetworkX graph"
   ]
  },
  {
   "cell_type": "code",
   "execution_count": 82,
   "metadata": {},
   "outputs": [
    {
     "data": {
      "text/html": [
       "<div>\n",
       "<style scoped>\n",
       "    .dataframe tbody tr th:only-of-type {\n",
       "        vertical-align: middle;\n",
       "    }\n",
       "\n",
       "    .dataframe tbody tr th {\n",
       "        vertical-align: top;\n",
       "    }\n",
       "\n",
       "    .dataframe thead th {\n",
       "        text-align: right;\n",
       "    }\n",
       "</style>\n",
       "<table border=\"1\" class=\"dataframe\">\n",
       "  <thead>\n",
       "    <tr style=\"text-align: right;\">\n",
       "      <th></th>\n",
       "      <th>source_airport</th>\n",
       "      <th>dest_airport</th>\n",
       "      <th>destination_flights</th>\n",
       "      <th>lat_source</th>\n",
       "      <th>long_source</th>\n",
       "      <th>lat_dest</th>\n",
       "      <th>long_dest</th>\n",
       "    </tr>\n",
       "  </thead>\n",
       "  <tbody>\n",
       "    <tr>\n",
       "      <th>0</th>\n",
       "      <td>AAE</td>\n",
       "      <td>ALG</td>\n",
       "      <td>0.733333</td>\n",
       "      <td>36.822201</td>\n",
       "      <td>7.809174</td>\n",
       "      <td>36.691002</td>\n",
       "      <td>3.215410</td>\n",
       "    </tr>\n",
       "    <tr>\n",
       "      <th>1</th>\n",
       "      <td>AAE</td>\n",
       "      <td>CDG</td>\n",
       "      <td>0.733333</td>\n",
       "      <td>36.822201</td>\n",
       "      <td>7.809174</td>\n",
       "      <td>49.012798</td>\n",
       "      <td>2.550000</td>\n",
       "    </tr>\n",
       "    <tr>\n",
       "      <th>2</th>\n",
       "      <td>AAE</td>\n",
       "      <td>IST</td>\n",
       "      <td>0.733333</td>\n",
       "      <td>36.822201</td>\n",
       "      <td>7.809174</td>\n",
       "      <td>41.275278</td>\n",
       "      <td>28.751944</td>\n",
       "    </tr>\n",
       "    <tr>\n",
       "      <th>3</th>\n",
       "      <td>AAE</td>\n",
       "      <td>LYS</td>\n",
       "      <td>0.733333</td>\n",
       "      <td>36.822201</td>\n",
       "      <td>7.809174</td>\n",
       "      <td>45.725556</td>\n",
       "      <td>5.081111</td>\n",
       "    </tr>\n",
       "    <tr>\n",
       "      <th>4</th>\n",
       "      <td>AAE</td>\n",
       "      <td>MRS</td>\n",
       "      <td>1.466667</td>\n",
       "      <td>36.822201</td>\n",
       "      <td>7.809174</td>\n",
       "      <td>43.439272</td>\n",
       "      <td>5.221424</td>\n",
       "    </tr>\n",
       "  </tbody>\n",
       "</table>\n",
       "</div>"
      ],
      "text/plain": [
       "  source_airport dest_airport  destination_flights  lat_source  long_source  \\\n",
       "0            AAE          ALG             0.733333   36.822201     7.809174   \n",
       "1            AAE          CDG             0.733333   36.822201     7.809174   \n",
       "2            AAE          IST             0.733333   36.822201     7.809174   \n",
       "3            AAE          LYS             0.733333   36.822201     7.809174   \n",
       "4            AAE          MRS             1.466667   36.822201     7.809174   \n",
       "\n",
       "    lat_dest  long_dest  \n",
       "0  36.691002   3.215410  \n",
       "1  49.012798   2.550000  \n",
       "2  41.275278  28.751944  \n",
       "3  45.725556   5.081111  \n",
       "4  43.439272   5.221424  "
      ]
     },
     "execution_count": 82,
     "metadata": {},
     "output_type": "execute_result"
    }
   ],
   "source": [
    "connections.head()"
   ]
  },
  {
   "cell_type": "code",
   "execution_count": 55,
   "metadata": {},
   "outputs": [],
   "source": [
    "connections_graph = nx.from_pandas_edgelist(\n",
    "    connections, \n",
    "    source = 'source_airport', \n",
    "    target = 'dest_airport',\n",
    "    create_using = nx.DiGraph()\n",
    ")"
   ]
  },
  {
   "cell_type": "code",
   "execution_count": 59,
   "metadata": {},
   "outputs": [
    {
     "data": {
      "text/plain": [
       "3190"
      ]
     },
     "execution_count": 59,
     "metadata": {},
     "output_type": "execute_result"
    }
   ],
   "source": [
    "len(connections_graph.nodes)"
   ]
  },
  {
   "cell_type": "markdown",
   "metadata": {},
   "source": [
    "## Auxillary data models"
   ]
  },
  {
   "cell_type": "code",
   "execution_count": 60,
   "metadata": {},
   "outputs": [],
   "source": [
    "def city_neighbours(city_name, connections_graph=connections_graph):\n",
    "    city_airports = CITY_TO_AIRPORT_CODE[city_name]\n",
    "    neighbours = []\n",
    "    for city in city_airports:\n",
    "        neighbours.extend(list(connections_graph.neighbors(city)))\n",
    "    return neighbours"
   ]
  },
  {
   "cell_type": "code",
   "execution_count": 61,
   "metadata": {},
   "outputs": [],
   "source": [
    "AIRPORT_CODE_TO_CITY = airport_df[['City', 'IATA']].set_index(\"IATA\").to_dict()['City']\n",
    "CITY_TO_AIRPORT_CODE = airport_df[['City', 'IATA']].groupby(\"City\")['IATA'].unique().to_dict()\n",
    "CITY_TO_AIRPORT_CODE = {k:list(v) for k, v in CITY_TO_AIRPORT_CODE.items()}\n",
    "CITY_POPULATION = airport_df[['City', 'city_population']].set_index(\"City\").to_dict()['city_population']\n",
    "\n",
    "\n",
    "CITY_NEIGHBOURS = {}\n",
    "for city in airport_df.City.unique():\n",
    "    try:\n",
    "        CITY_NEIGHBOURS[city] = city_neighbours(city)\n",
    "    except:\n",
    "        continue\n",
    "        \n",
    "NUMBER_OF_FLIGHTS = dict(zip(tuple(\n",
    "    zip(\n",
    "        connections.source_airport, \n",
    "        connections.dest_airport\n",
    "    )),\n",
    "    connections.destination_flights\n",
    "))"
   ]
  },
  {
   "cell_type": "markdown",
   "metadata": {},
   "source": [
    "## Simulation functions"
   ]
  },
  {
   "cell_type": "code",
   "execution_count": 62,
   "metadata": {
    "code_folding": []
   },
   "outputs": [],
   "source": [
    "def get_city_neighbours(city_name):\n",
    "    return CITY_NEIGHBOURS[city_name]\n",
    "\n",
    "def get_healthy_airports(airports):\n",
    "    airports = list(set(airports) - set(INFECTED_AIRPORTS))\n",
    "    return airports\n",
    "\n",
    "def get_infected_airports(airports):\n",
    "    airports = list(set(airports).intersection(set(INFECTED_AIRPORTS)))\n",
    "    return airports\n",
    "\n",
    "def airports_to_cities(airports):\n",
    "    return list(set([AIRPORT_CODE_TO_CITY[code] for code in airports]))\n",
    "\n",
    "def get_number_of_flights(source, destination):\n",
    "    if not isinstance(source, list):\n",
    "        source = [source]\n",
    "    if not isinstance(destination, list):\n",
    "        destination = [destination]\n",
    "    flights = 0\n",
    "    for source in source:\n",
    "        for dest in destination:\n",
    "            flights+=NUMBER_OF_FLIGHTS[(source, dest)]\n",
    "    return flights\n",
    "\n",
    "\n",
    "def get_infected_number(city_name, simulation_day):\n",
    "    infection_day = INFECTED_CITIES[city_name]['day']\n",
    "    return INFECTED_CITIES[city_name]['infected'][simulation_day-infection_day]\n",
    "\n",
    "\n",
    "def calculate_infection_prob(current_susceptible_city, DAY):\n",
    "    \n",
    "    current_susceptible_airports = CITY_TO_AIRPORT_CODE[current_susceptible_city]\n",
    "    current_infected_neighbours = get_infected_airports(get_city_neighbours(current_susceptible_city))\n",
    "\n",
    "    flights = []\n",
    "    infected_populations = []\n",
    "    total_populations = []\n",
    "\n",
    "    for infected_neighbour in current_infected_neighbours:\n",
    "        infected_city_name = AIRPORT_CODE_TO_CITY[infected_neighbour]\n",
    "        flights.append(get_number_of_flights(infected_neighbour, current_susceptible_airports))\n",
    "        infected_populations.append(get_infected_number(infected_city_name, DAY))\n",
    "        total_populations.append(CITY_POPULATION[infected_city_name])\n",
    "\n",
    "    infection_probability = prob_city_infected(infected_populations, total_populations, flights)\n",
    "    return infection_probability\n",
    "\n",
    "def run_neighbour_simulation(current_susceptible_city, current_infection_source_city, DAY):\n",
    "    \n",
    "    infection_probability = calculate_infection_prob(current_susceptible_city, DAY)\n",
    "\n",
    "    if np.random.random() < infection_probability:\n",
    "        S, I, R = run_sir(\n",
    "            city_population=CITY_POPULATION[current_susceptible_city],\n",
    "            first_infected_number=100\n",
    "        )\n",
    "        return {current_susceptible_city:{\n",
    "            'day':DAY, \n",
    "            'infected':I,\n",
    "            'susceptible':S,\n",
    "            'recovered':R,\n",
    "            'from': current_infection_source_city\n",
    "        }}\n",
    "        \n",
    "        \n",
    "def run_infectious_city_simulation(current_infection_source_city, DAY):\n",
    "    neighbour_airports = get_city_neighbours(current_infection_source_city)\n",
    "    susceptible_airports = get_healthy_airports(neighbour_airports)\n",
    "    susceptible_cities = airports_to_cities(susceptible_airports)\n",
    "\n",
    "    results = []\n",
    "    for current_susceptible_city in tqdm_notebook(\n",
    "        susceptible_cities, \n",
    "        leave=False, \n",
    "        desc='susceptible', \n",
    "        disable=True\n",
    "    ):\n",
    "        \n",
    "        try:\n",
    "            results.append(run_neighbour_simulation(current_susceptible_city, current_infection_source_city, DAY))\n",
    "        except:\n",
    "            continue\n",
    "            \n",
    "    results = [res for res in results if res]\n",
    "    return results"
   ]
  },
  {
   "cell_type": "markdown",
   "metadata": {},
   "source": [
    "## Configurations for scenarios\n",
    "\n",
    "- Realistic: intervention starts after 30 days, it takes 14 days to enforce lockdown\n",
    "- Optimistic: intervention starts after 14 days, it takes 7 days to enforce lockdown\n",
    "- Pessimistic: intervention starts after 60 days, it takes 30 days to enforce lockdown"
   ]
  },
  {
   "cell_type": "code",
   "execution_count": 68,
   "metadata": {},
   "outputs": [],
   "source": [
    "NUMBER_OF_SIMULATIONS = 10\n",
    "SIMULATION_DAYS = 200\n",
    "VERBOSE = True\n",
    "\n",
    "max_R = 4\n",
    "min_R = 1\n",
    "\n",
    "GAMMA = 0.0576*2\n",
    "REPRODUCTION_NUMBER = calculate_reproduction_number(\n",
    "    max_R, min_R, \n",
    "    SIMULATION_DAYS, \n",
    "    intervention_start=60, \n",
    "    intervention_period=30)\n",
    "\n",
    "def run_sir(\n",
    "        city_population, first_infected_number, \n",
    "        reproduction_number=REPRODUCTION_NUMBER, \n",
    "        gamma=GAMMA, days=SIMULATION_DAYS\n",
    "    ):\n",
    "    sir_model = SIR(\n",
    "        city_population, I0=first_infected_number, beta=reproduction_number/14, gamma=gamma, days=days\n",
    "    )\n",
    "    S, I, R = sir_model.run()\n",
    "    return S, I, R"
   ]
  },
  {
   "cell_type": "markdown",
   "metadata": {},
   "source": [
    "# Simulation run"
   ]
  },
  {
   "cell_type": "code",
   "execution_count": 84,
   "metadata": {},
   "outputs": [],
   "source": [
    "INFECTED_CITIES = {}\n",
    "INFECTED_AIRPORTS = []\n",
    "NEW_INFECTED = {}\n",
    "\n",
    "for simulation_run in tqdm_notebook(range(NUMBER_OF_SIMULATIONS), leave=False):\n",
    "    # Always start at Wuhan on day 0\n",
    "    S, I, R = run_sir(CITY_POPULATION['Wuhan'], 444/0.1)\n",
    "    INFECTED_CITIES = {'Wuhan':{'day':0, 'infected':I, 'susceptible':S, 'recovered':R, 'from':'Wuhan'}}\n",
    "    INFECTED_AIRPORTS = ['WUH']\n",
    "    \n",
    "    for DAY in tqdm_notebook(range(0, SIMULATION_DAYS), desc='Day', leave=False):\n",
    "        CHECKED_SUSCEPTIBLE_CITIES = []\n",
    "\n",
    "        for current_infection_source_city in tqdm_notebook(\n",
    "            INFECTED_CITIES.keys(),\n",
    "            leave=False, \n",
    "            desc='infection sources',\n",
    "            disable=not VERBOSE\n",
    "            ):\n",
    "\n",
    "            results = run_infectious_city_simulation(current_infection_source_city, DAY)\n",
    "            NEW_INFECTED.update(dict(ChainMap(*results)))\n",
    "\n",
    "        INFECTED_CITIES.update(NEW_INFECTED)\n",
    "        NEW_INFECTED = {}\n",
    "        INFECTED_AIRPORTS = sum([CITY_TO_AIRPORT_CODE[city] for city in INFECTED_CITIES.keys()], [])\n",
    "\n",
    "    with open(f\"../simulation_data/INFECTED_CITIES_mild_{simulation_run}\", 'wb') as f:\n",
    "        pickle.dump(INFECTED_CITIES, f)"
   ]
  }
 ],
 "metadata": {
  "kernelspec": {
   "display_name": "Python 3",
   "language": "python",
   "name": "python3"
  },
  "language_info": {
   "codemirror_mode": {
    "name": "ipython",
    "version": 3
   },
   "file_extension": ".py",
   "mimetype": "text/x-python",
   "name": "python",
   "nbconvert_exporter": "python",
   "pygments_lexer": "ipython3",
   "version": "3.7.3"
  },
  "varInspector": {
   "cols": {
    "lenName": 16,
    "lenType": 16,
    "lenVar": 40
   },
   "kernels_config": {
    "python": {
     "delete_cmd_postfix": "",
     "delete_cmd_prefix": "del ",
     "library": "var_list.py",
     "varRefreshCmd": "print(var_dic_list())"
    },
    "r": {
     "delete_cmd_postfix": ") ",
     "delete_cmd_prefix": "rm(",
     "library": "var_list.r",
     "varRefreshCmd": "cat(var_dic_list()) "
    }
   },
   "types_to_exclude": [
    "module",
    "function",
    "builtin_function_or_method",
    "instance",
    "_Feature"
   ],
   "window_display": false
  }
 },
 "nbformat": 4,
 "nbformat_minor": 2
}
